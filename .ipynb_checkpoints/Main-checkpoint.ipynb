{
 "cells": [
  {
   "cell_type": "code",
   "execution_count": 10,
   "id": "e9120c00-5f24-4e41-a821-fad52f30db3f",
   "metadata": {},
   "outputs": [],
   "source": [
    "import pandas as pd"
   ]
  },
  {
   "cell_type": "code",
   "execution_count": 11,
   "id": "66ebc0f8-106c-40eb-94ff-e5d3cb4b58bc",
   "metadata": {},
   "outputs": [],
   "source": [
    "# Fetch historical data\n",
    "tickers= ['AAPL', 'MSFT', 'GOOGL', 'AMZN', 'TSLA']\n",
    "folder = \"data\"\n",
    "\n",
    "# Load historical data from CSV\n",
    "data = {}\n",
    "for ticker in tickers:\n",
    "    df = pd.read_csv(f\"{folder}/{ticker}.csv\", index_col='Date', parse_dates=True)\n",
    "    data[ticker] = df\n",
    "\n",
    "\n"
   ]
  },
  {
   "cell_type": "code",
   "execution_count": 3,
   "id": "8091e85a-a2ed-4792-9132-91feb6b56e0d",
   "metadata": {},
   "outputs": [],
   "source": [
    "#import stockstats\n",
    "#for ticker in tickers:\n",
    "#    stock_df = data[ticker]['Close'].to_frame(name='close')\n",
    "#    stock = stockstats.StockDataFrame.retype(stock_df)\n",
    " #   stock_df['sma'] = stock['close_14_sma']\n",
    "  #  stock_df['ema'] = stock['close_14_ema']\n",
    "   # stock_df['rsi'] = stock['rsi_14']\n",
    "    #stock_df['macd'] = stock['macdh']\n"
   ]
  },
  {
   "cell_type": "code",
   "execution_count": 4,
   "id": "8c9afc50-968e-498f-983e-6ee677dff04f",
   "metadata": {},
   "outputs": [],
   "source": [
    "#stock_df.head()"
   ]
  },
  {
   "cell_type": "code",
   "execution_count": 12,
   "id": "09bd1454-4540-465e-bf1c-f26cf5c8a6be",
   "metadata": {},
   "outputs": [],
   "source": [
    "# Drop NaN values\n",
    "df= df.dropna()"
   ]
  },
  {
   "cell_type": "code",
   "execution_count": 6,
   "id": "989cc98a-a7a5-4459-8b3c-043f9000ebc4",
   "metadata": {},
   "outputs": [],
   "source": [
    "#stock_df=stock_df.dropna()"
   ]
  },
  {
   "cell_type": "code",
   "execution_count": 7,
   "id": "60a06002-a071-4a35-8c62-fadbce0eeec2",
   "metadata": {},
   "outputs": [],
   "source": [
    "#stock_df"
   ]
  },
  {
   "cell_type": "code",
   "execution_count": 8,
   "id": "b828031a-c024-4b92-9825-7bf99ad1fa03",
   "metadata": {},
   "outputs": [],
   "source": [
    "#stock_df.tail()"
   ]
  },
  {
   "cell_type": "code",
   "execution_count": 9,
   "id": "d7d03a9d-d7e0-4b0c-b9e2-e9616a4b4c2b",
   "metadata": {
    "scrolled": true
   },
   "outputs": [
    {
     "data": {
      "text/html": [
       "<div>\n",
       "<style scoped>\n",
       "    .dataframe tbody tr th:only-of-type {\n",
       "        vertical-align: middle;\n",
       "    }\n",
       "\n",
       "    .dataframe tbody tr th {\n",
       "        vertical-align: top;\n",
       "    }\n",
       "\n",
       "    .dataframe thead th {\n",
       "        text-align: right;\n",
       "    }\n",
       "</style>\n",
       "<table border=\"1\" class=\"dataframe\">\n",
       "  <thead>\n",
       "    <tr style=\"text-align: right;\">\n",
       "      <th></th>\n",
       "      <th>Adj Close</th>\n",
       "      <th>Close</th>\n",
       "      <th>High</th>\n",
       "      <th>Low</th>\n",
       "      <th>Open</th>\n",
       "      <th>Volume</th>\n",
       "    </tr>\n",
       "  </thead>\n",
       "  <tbody>\n",
       "    <tr>\n",
       "      <th>count</th>\n",
       "      <td>3150.000000</td>\n",
       "      <td>3150.000000</td>\n",
       "      <td>3150.000000</td>\n",
       "      <td>3150.000000</td>\n",
       "      <td>3150.000000</td>\n",
       "      <td>3.150000e+03</td>\n",
       "    </tr>\n",
       "    <tr>\n",
       "      <th>mean</th>\n",
       "      <td>58.807496</td>\n",
       "      <td>58.807496</td>\n",
       "      <td>60.176703</td>\n",
       "      <td>57.402961</td>\n",
       "      <td>58.860577</td>\n",
       "      <td>9.359654e+07</td>\n",
       "    </tr>\n",
       "    <tr>\n",
       "      <th>std</th>\n",
       "      <td>95.526397</td>\n",
       "      <td>95.526397</td>\n",
       "      <td>97.854579</td>\n",
       "      <td>93.175266</td>\n",
       "      <td>95.658595</td>\n",
       "      <td>8.169856e+07</td>\n",
       "    </tr>\n",
       "    <tr>\n",
       "      <th>min</th>\n",
       "      <td>1.053333</td>\n",
       "      <td>1.053333</td>\n",
       "      <td>1.108667</td>\n",
       "      <td>0.998667</td>\n",
       "      <td>1.076000</td>\n",
       "      <td>1.777500e+06</td>\n",
       "    </tr>\n",
       "    <tr>\n",
       "      <th>25%</th>\n",
       "      <td>8.957666</td>\n",
       "      <td>8.957666</td>\n",
       "      <td>9.117500</td>\n",
       "      <td>8.765667</td>\n",
       "      <td>8.976167</td>\n",
       "      <td>4.234658e+07</td>\n",
       "    </tr>\n",
       "    <tr>\n",
       "      <th>50%</th>\n",
       "      <td>16.222334</td>\n",
       "      <td>16.222334</td>\n",
       "      <td>16.491000</td>\n",
       "      <td>15.945000</td>\n",
       "      <td>16.229000</td>\n",
       "      <td>7.596600e+07</td>\n",
       "    </tr>\n",
       "    <tr>\n",
       "      <th>75%</th>\n",
       "      <td>24.448000</td>\n",
       "      <td>24.448000</td>\n",
       "      <td>25.086666</td>\n",
       "      <td>24.158668</td>\n",
       "      <td>24.622500</td>\n",
       "      <td>1.172978e+08</td>\n",
       "    </tr>\n",
       "    <tr>\n",
       "      <th>max</th>\n",
       "      <td>409.970001</td>\n",
       "      <td>409.970001</td>\n",
       "      <td>414.496674</td>\n",
       "      <td>405.666656</td>\n",
       "      <td>411.470001</td>\n",
       "      <td>9.140820e+08</td>\n",
       "    </tr>\n",
       "  </tbody>\n",
       "</table>\n",
       "</div>"
      ],
      "text/plain": [
       "         Adj Close        Close         High          Low         Open  \\\n",
       "count  3150.000000  3150.000000  3150.000000  3150.000000  3150.000000   \n",
       "mean     58.807496    58.807496    60.176703    57.402961    58.860577   \n",
       "std      95.526397    95.526397    97.854579    93.175266    95.658595   \n",
       "min       1.053333     1.053333     1.108667     0.998667     1.076000   \n",
       "25%       8.957666     8.957666     9.117500     8.765667     8.976167   \n",
       "50%      16.222334    16.222334    16.491000    15.945000    16.229000   \n",
       "75%      24.448000    24.448000    25.086666    24.158668    24.622500   \n",
       "max     409.970001   409.970001   414.496674   405.666656   411.470001   \n",
       "\n",
       "             Volume  \n",
       "count  3.150000e+03  \n",
       "mean   9.359654e+07  \n",
       "std    8.169856e+07  \n",
       "min    1.777500e+06  \n",
       "25%    4.234658e+07  \n",
       "50%    7.596600e+07  \n",
       "75%    1.172978e+08  \n",
       "max    9.140820e+08  "
      ]
     },
     "execution_count": 9,
     "metadata": {},
     "output_type": "execute_result"
    }
   ],
   "source": [
    "df.describe()"
   ]
  },
  {
   "cell_type": "markdown",
   "id": "0b29e717-a0d8-44d8-adde-aa9d43c49656",
   "metadata": {},
   "source": [
    "## Fundamental Data"
   ]
  },
  {
   "cell_type": "code",
   "execution_count": null,
   "id": "d6c4e842-3dc0-4201-8e4f-aa3de7c2511e",
   "metadata": {},
   "outputs": [],
   "source": []
  },
  {
   "cell_type": "code",
   "execution_count": null,
   "id": "e446d4d6-152e-45cb-a0ea-8c99788be4dd",
   "metadata": {},
   "outputs": [],
   "source": []
  }
 ],
 "metadata": {
  "kernelspec": {
   "display_name": "Python 3 (ipykernel)",
   "language": "python",
   "name": "python3"
  },
  "language_info": {
   "codemirror_mode": {
    "name": "ipython",
    "version": 3
   },
   "file_extension": ".py",
   "mimetype": "text/x-python",
   "name": "python",
   "nbconvert_exporter": "python",
   "pygments_lexer": "ipython3",
   "version": "3.10.1"
  }
 },
 "nbformat": 4,
 "nbformat_minor": 5
}
