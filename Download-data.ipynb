{
 "cells": [
  {
   "cell_type": "code",
   "execution_count": 2,
   "id": "3d98f0fd-d976-416f-a327-43b9697d63cd",
   "metadata": {},
   "outputs": [
    {
     "name": "stderr",
     "output_type": "stream",
     "text": [
      "[*********************100%%**********************]  10 of 10 completed\n"
     ]
    }
   ],
   "source": [
    "import yfinance as yf\n",
    "import pandas as pd\n",
    "import os\n",
    "\n",
    "# Define tickers and folder\n",
    "tickers = ['AAPL', 'MSFT', 'GOOGL', 'AMZN', 'TSLA', 'JNJ', 'WMT', 'BAC', 'V', 'PG']\n",
    "folder = \"data\"\n",
    "\n",
    "# Create folder if it doesn't exist\n",
    "os.makedirs(folder, exist_ok=True)\n",
    "\n",
    "# Download data\n",
    "data = yf.download(tickers, start='2010-01-01', end='2023-01-01')\n",
    "\n",
    "# Save to CSV\n",
    "for ticker in tickers:\n",
    "    df = data.xs(ticker, level=1, axis=1)\n",
    "    df.to_csv(f\"{folder}/{ticker}.csv\")\n"
   ]
  },
  {
   "cell_type": "code",
   "execution_count": null,
   "id": "3aa77115-e73a-423d-9622-47715c54d10d",
   "metadata": {},
   "outputs": [],
   "source": []
  }
 ],
 "metadata": {
  "kernelspec": {
   "display_name": "Python 3 (ipykernel)",
   "language": "python",
   "name": "python3"
  },
  "language_info": {
   "codemirror_mode": {
    "name": "ipython",
    "version": 3
   },
   "file_extension": ".py",
   "mimetype": "text/x-python",
   "name": "python",
   "nbconvert_exporter": "python",
   "pygments_lexer": "ipython3",
   "version": "3.10.1"
  }
 },
 "nbformat": 4,
 "nbformat_minor": 5
}
